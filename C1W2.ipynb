{
 "cells": [
  {
   "cell_type": "code",
   "execution_count": 1,
   "id": "vietnamese-buffer",
   "metadata": {},
   "outputs": [],
   "source": [
    "import os\n",
    "import tensorflow as tf\n",
    "from tensorflow import keras"
   ]
  },
  {
   "cell_type": "code",
   "execution_count": 2,
   "id": "overall-punch",
   "metadata": {},
   "outputs": [],
   "source": [
    "(x_train, y_train), _ = tf.keras.datasets.mnist.load_data()"
   ]
  },
  {
   "cell_type": "code",
   "execution_count": 3,
   "id": "major-three",
   "metadata": {},
   "outputs": [],
   "source": [
    "normalize = lambda x : tf.cast(x, tf.float32) / 255.0"
   ]
  },
  {
   "cell_type": "code",
   "execution_count": 4,
   "id": "material-accident",
   "metadata": {},
   "outputs": [],
   "source": [
    "x_train = normalize(x_train)"
   ]
  },
  {
   "cell_type": "code",
   "execution_count": 5,
   "id": "stuffed-winner",
   "metadata": {},
   "outputs": [],
   "source": [
    "class myCallback(tf.keras.callbacks.Callback):\n",
    "    def on_epoch_end(self, epoch, logs={}):\n",
    "        if logs.get('accuracy') is not None and logs.get('accuracy') > 0.99:\n",
    "            print(\"\\nReached 99% accuracy so cancelling training!\")\n",
    "            self.model.stop_training = True\n",
    "            \n",
    "callbacks = myCallback()"
   ]
  },
  {
   "cell_type": "code",
   "execution_count": 6,
   "id": "fourth-drilling",
   "metadata": {},
   "outputs": [],
   "source": [
    "model = keras.models.Sequential([\n",
    "    keras.layers.Flatten(input_shape=(28, 28)),\n",
    "    keras.layers.Dense(units=512, activation=tf.nn.relu),\n",
    "    keras.layers.Dense(units=10, activation=tf.nn.softmax)\n",
    "])"
   ]
  },
  {
   "cell_type": "code",
   "execution_count": 7,
   "id": "fuzzy-million",
   "metadata": {},
   "outputs": [],
   "source": [
    "model.compile(optimizer='adam', loss='sparse_categorical_crossentropy', metrics=['accuracy'])"
   ]
  },
  {
   "cell_type": "code",
   "execution_count": 8,
   "id": "cross-alaska",
   "metadata": {},
   "outputs": [
    {
     "name": "stdout",
     "output_type": "stream",
     "text": [
      "Epoch 1/10\n",
      "1875/1875 - 8s - loss: 0.1992 - accuracy: 0.9409 - 8s/epoch - 4ms/step\n",
      "Epoch 2/10\n",
      "1875/1875 - 7s - loss: 0.0805 - accuracy: 0.9759 - 7s/epoch - 4ms/step\n",
      "Epoch 3/10\n",
      "1875/1875 - 7s - loss: 0.0502 - accuracy: 0.9842 - 7s/epoch - 4ms/step\n",
      "Epoch 4/10\n",
      "1875/1875 - 7s - loss: 0.0377 - accuracy: 0.9882 - 7s/epoch - 4ms/step\n",
      "Epoch 5/10\n",
      "\n",
      "Reached 99% accuracy so cancelling training!\n",
      "1875/1875 - 8s - loss: 0.0269 - accuracy: 0.9911 - 8s/epoch - 4ms/step\n"
     ]
    }
   ],
   "source": [
    "history = model.fit(x_train, y_train, epochs=10, verbose=2, callbacks=[callbacks])"
   ]
  }
 ],
 "metadata": {
  "kernelspec": {
   "display_name": "Python 3",
   "language": "python",
   "name": "python3"
  },
  "language_info": {
   "codemirror_mode": {
    "name": "ipython",
    "version": 3
   },
   "file_extension": ".py",
   "mimetype": "text/x-python",
   "name": "python",
   "nbconvert_exporter": "python",
   "pygments_lexer": "ipython3",
   "version": "3.8.8"
  }
 },
 "nbformat": 4,
 "nbformat_minor": 5
}
